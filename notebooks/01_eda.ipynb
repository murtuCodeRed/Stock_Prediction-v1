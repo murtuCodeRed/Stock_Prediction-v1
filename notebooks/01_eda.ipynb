{
 "cells": [
  {
   "cell_type": "markdown",
   "metadata": {},
   "source": [
    "# Stock Prediction - Exploratory Data Analysis\n",
    "\n",
    "This notebook performs comprehensive exploratory data analysis on the stock prediction dataset.\n",
    "\n",
    "**Dataset Overview:**\n",
    "- Stock data: 25,619 rows covering 616 stocks over 42 months (Jan 2020 - Jun 2023)\n",
    "- Company information: 616 companies with sector and business attributes\n",
    "- Training targets: Excess returns and binary outperformance labels\n",
    "- Monash Index: Market index returns and values over the same period\n",
    "\n",
    "**Analysis Sections:**\n",
    "1. Data Loading & Quality Check\n",
    "2. Target Variable Analysis\n",
    "3. Monash Index Analysis\n",
    "4. Stock Performance Patterns\n",
    "5. Feature Distributions\n",
    "6. Sector Analysis"
   ]
  },
  {
   "cell_type": "markdown",
   "metadata": {},
   "source": [
    "## Setup and Imports"
   ]
  },
  {
   "cell_type": "code",
   "execution_count": null,
   "metadata": {},
   "outputs": [],
   "source": [
    "import pandas as pd\n",
    "import numpy as np\n",
    "import matplotlib.pyplot as plt\n",
    "import seaborn as sns\n",
    "import warnings\n",
    "\n",
    "# Configure display settings\n",
    "pd.set_option('display.max_columns', None)\n",
    "pd.set_option('display.width', 1000)\n",
    "warnings.filterwarnings('ignore')\n",
    "\n",
    "# Set plot style\n",
    "sns.set_style('darkgrid')\n",
    "plt.rcParams['figure.figsize'] = (12, 6)\n",
    "\n",
    "# Set random seed for reproducibility\n",
    "np.random.seed(42)\n",
    "\n",
    "print(\"Setup complete!\")"
   ]
  },
  {
   "cell_type": "markdown",
   "metadata": {},
   "source": [
    "## 1. Data Loading & Quality Check\n",
    "\n",
    "Load all datasets and verify their structure, quality, and completeness."
   ]
  },
  {
   "cell_type": "code",
   "execution_count": null,
   "metadata": {},
   "outputs": [],
   "source": [
    "# Load all datasets\n",
    "stock_data = pd.read_csv('../stock_data.csv')\n",
    "company_info = pd.read_csv('../company_info.csv')\n",
    "training_targets = pd.read_csv('../training_targets.csv')\n",
    "monash_index = pd.read_csv('../monashIndex.csv')\n",
    "\n",
    "print(\"All datasets loaded successfully!\")"
   ]
  },
  {
   "cell_type": "markdown",
   "metadata": {},
   "source": [
    "### 1.1 Dataset Shapes and Columns"
   ]
  },
  {
   "cell_type": "code",
   "execution_count": null,
   "metadata": {},
   "outputs": [],
   "source": [
    "# Display shapes\n",
    "print(\"=\"*80)\n",
    "print(\"DATASET SHAPES\")\n",
    "print(\"=\"*80)\n",
    "print(f\"Stock Data:        {stock_data.shape[0]:,} rows × {stock_data.shape[1]} columns\")\n",
    "print(f\"Company Info:      {company_info.shape[0]:,} rows × {company_info.shape[1]} columns\")\n",
    "print(f\"Training Targets:  {training_targets.shape[0]:,} rows × {training_targets.shape[1]} columns\")\n",
    "print(f\"Monash Index:      {monash_index.shape[0]:,} rows × {monash_index.shape[1]} columns\")\n",
    "print(\"=\"*80)"
   ]
  },
  {
   "cell_type": "code",
   "execution_count": null,
   "metadata": {},
   "outputs": [],
   "source": [
    "# Display column names and data types\n",
    "print(\"\\n\" + \"=\"*80)\n",
    "print(\"STOCK DATA - Columns and Types\")\n",
    "print(\"=\"*80)\n",
    "print(stock_data.dtypes)\n",
    "print(\"\\nFirst few rows:\")\n",
    "stock_data.head()"
   ]
  },
  {
   "cell_type": "code",
   "execution_count": null,
   "metadata": {},
   "outputs": [],
   "source": [
    "print(\"\\n\" + \"=\"*80)\n",
    "print(\"COMPANY INFO - Columns and Types\")\n",
    "print(\"=\"*80)\n",
    "print(company_info.dtypes)\n",
    "print(\"\\nFirst few rows:\")\n",
    "company_info.head()"
   ]
  },
  {
   "cell_type": "code",
   "execution_count": null,
   "metadata": {},
   "outputs": [],
   "source": [
    "print(\"\\n\" + \"=\"*80)\n",
    "print(\"TRAINING TARGETS - Columns and Types\")\n",
    "print(\"=\"*80)\n",
    "print(training_targets.dtypes)\n",
    "print(\"\\nFirst few rows:\")\n",
    "training_targets.head()"
   ]
  },
  {
   "cell_type": "code",
   "execution_count": null,
   "metadata": {},
   "outputs": [],
   "source": [
    "print(\"\\n\" + \"=\"*80)\n",
    "print(\"MONASH INDEX - Columns and Types\")\n",
    "print(\"=\"*80)\n",
    "print(monash_index.dtypes)\n",
    "print(\"\\nFirst few rows:\")\n",
    "monash_index.head(10)"
   ]
  },
  {
   "cell_type": "markdown",
   "metadata": {},
   "source": [
    "### 1.2 Missing Values Analysis"
   ]
  },
  {
   "cell_type": "code",
   "execution_count": null,
   "metadata": {},
   "outputs": [],
   "source": [
    "# Check missing values in stock_data\n",
    "print(\"=\"*80)\n",
    "print(\"MISSING VALUES - Stock Data\")\n",
    "print(\"=\"*80)\n",
    "missing_stock = stock_data.isnull().sum()\n",
    "missing_pct_stock = (missing_stock / len(stock_data) * 100).round(2)\n",
    "missing_df_stock = pd.DataFrame({\n",
    "    'Missing Count': missing_stock,\n",
    "    'Percentage': missing_pct_stock\n",
    "}).sort_values('Missing Count', ascending=False)\n",
    "print(missing_df_stock[missing_df_stock['Missing Count'] > 0])"
   ]
  },
  {
   "cell_type": "code",
   "execution_count": null,
   "metadata": {},
   "outputs": [],
   "source": [
    "# Check missing values in other datasets\n",
    "print(\"\\n\" + \"=\"*80)\n",
    "print(\"MISSING VALUES - Other Datasets\")\n",
    "print(\"=\"*80)\n",
    "print(f\"Company Info missing values: {company_info.isnull().sum().sum()}\")\n",
    "print(f\"Training Targets missing values: {training_targets.isnull().sum().sum()}\")\n",
    "print(f\"Monash Index missing values: {monash_index.isnull().sum().sum()}\")"
   ]
  },
  {
   "cell_type": "markdown",
   "metadata": {},
   "source": [
    "### 1.3 Date Range and Stock Verification"
   ]
  },
  {
   "cell_type": "code",
   "execution_count": null,
   "metadata": {},
   "outputs": [],
   "source": [
    "# Verify date range\n",
    "print(\"=\"*80)\n",
    "print(\"DATE RANGE VERIFICATION\")\n",
    "print(\"=\"*80)\n",
    "unique_months = sorted(stock_data['month_id'].unique())\n",
    "print(f\"Date Range: {unique_months[0]} to {unique_months[-1]}\")\n",
    "print(f\"Total Months: {len(unique_months)}\")\n",
    "print(f\"Expected: 42 months (2020_01 to 2023_06)\")\n",
    "print(f\"Match: {'✓' if len(unique_months) == 42 else '✗'}\")"
   ]
  },
  {
   "cell_type": "code",
   "execution_count": null,
   "metadata": {},
   "outputs": [],
   "source": [
    "# Verify unique stocks\n",
    "print(\"\\n\" + \"=\"*80)\n",
    "print(\"STOCK VERIFICATION\")\n",
    "print(\"=\"*80)\n",
    "unique_stocks = stock_data['stock_id'].nunique()\n",
    "print(f\"Unique Stocks in Stock Data: {unique_stocks}\")\n",
    "print(f\"Companies in Company Info: {len(company_info)}\")\n",
    "print(f\"Expected: 616 stocks\")\n",
    "print(f\"Match: {'✓' if unique_stocks == 616 else '✗'}\")"
   ]
  },
  {
   "cell_type": "code",
   "execution_count": null,
   "metadata": {},
   "outputs": [],
   "source": [
    "# Display all unique months\n",
    "print(\"\\n\" + \"=\"*80)\n",
    "print(\"ALL UNIQUE MONTHS\")\n",
    "print(\"=\"*80)\n",
    "for i, month in enumerate(unique_months, 1):\n",
    "    print(f\"{month}\", end='  ')\n",
    "    if i % 6 == 0:\n",
    "        print()"
   ]
  },
  {
   "cell_type": "markdown",
   "metadata": {},
   "source": [
    "## 2. Target Variable Analysis\n",
    "\n",
    "Analyze the distribution and characteristics of our target variables: excess_return and outperform_binary."
   ]
  },
  {
   "cell_type": "markdown",
   "metadata": {},
   "source": [
    "### 2.1 Excess Return Distribution"
   ]
  },
  {
   "cell_type": "code",
   "execution_count": null,
   "metadata": {},
   "outputs": [],
   "source": [
    "# Summary statistics for excess_return\n",
    "print(\"=\"*80)\n",
    "print(\"EXCESS RETURN - Summary Statistics\")\n",
    "print(\"=\"*80)\n",
    "print(training_targets['excess_return'].describe())\n",
    "print(f\"\\nSkewness: {training_targets['excess_return'].skew():.4f}\")\n",
    "print(f\"Kurtosis: {training_targets['excess_return'].kurtosis():.4f}\")"
   ]
  },
  {
   "cell_type": "code",
   "execution_count": null,
   "metadata": {},
   "outputs": [],
   "source": [
    "# Histogram and boxplot of excess_return\n",
    "fig, axes = plt.subplots(1, 2, figsize=(14, 5))\n",
    "\n",
    "# Histogram\n",
    "axes[0].hist(training_targets['excess_return'], bins=100, edgecolor='black', alpha=0.7)\n",
    "axes[0].axvline(training_targets['excess_return'].mean(), color='red', linestyle='--', \n",
    "                linewidth=2, label=f\"Mean: {training_targets['excess_return'].mean():.4f}\")\n",
    "axes[0].axvline(training_targets['excess_return'].median(), color='green', linestyle='--', \n",
    "                linewidth=2, label=f\"Median: {training_targets['excess_return'].median():.4f}\")\n",
    "axes[0].set_xlabel('Excess Return', fontsize=12)\n",
    "axes[0].set_ylabel('Frequency', fontsize=12)\n",
    "axes[0].set_title('Distribution of Excess Returns', fontsize=14, fontweight='bold')\n",
    "axes[0].legend()\n",
    "axes[0].grid(True, alpha=0.3)\n",
    "\n",
    "# Boxplot\n",
    "bp = axes[1].boxplot(training_targets['excess_return'], vert=True, patch_artist=True)\n",
    "bp['boxes'][0].set_facecolor('lightblue')\n",
    "bp['boxes'][0].set_alpha(0.7)\n",
    "axes[1].set_ylabel('Excess Return', fontsize=12)\n",
    "axes[1].set_title('Excess Return - Boxplot (Outlier Detection)', fontsize=14, fontweight='bold')\n",
    "axes[1].grid(True, alpha=0.3)\n",
    "\n",
    "plt.tight_layout()\n",
    "plt.show()"
   ]
  },
  {
   "cell_type": "markdown",
   "metadata": {},
   "source": [
    "### 2.2 Binary Target Class Balance"
   ]
  },
  {
   "cell_type": "code",
   "execution_count": null,
   "metadata": {},
   "outputs": [],
   "source": [
    "# Class balance analysis\n",
    "print(\"=\"*80)\n",
    "print(\"OUTPERFORM BINARY - Class Balance\")\n",
    "print(\"=\"*80)\n",
    "class_counts = training_targets['outperform_binary'].value_counts().sort_index()\n",
    "class_pct = training_targets['outperform_binary'].value_counts(normalize=True).sort_index() * 100\n",
    "\n",
    "balance_df = pd.DataFrame({\n",
    "    'Class': ['Underperform (0)', 'Outperform (1)'],\n",
    "    'Count': class_counts.values,\n",
    "    'Percentage': class_pct.values\n",
    "})\n",
    "print(balance_df.to_string(index=False))\n",
    "print(f\"\\nClass Ratio (0:1): {class_counts[0]/class_counts[1]:.2f}:1\")"
   ]
  },
  {
   "cell_type": "code",
   "execution_count": null,
   "metadata": {},
   "outputs": [],
   "source": [
    "# Countplot of binary target\n",
    "plt.figure(figsize=(10, 6))\n",
    "ax = sns.countplot(data=training_targets, x='outperform_binary', palette='Set2')\n",
    "\n",
    "# Add count labels on bars\n",
    "for container in ax.containers:\n",
    "    ax.bar_label(container, fmt='%d')\n",
    "\n",
    "# Add percentage labels\n",
    "total = len(training_targets)\n",
    "for i, p in enumerate(ax.patches):\n",
    "    height = p.get_height()\n",
    "    ax.text(p.get_x() + p.get_width()/2., height + 200,\n",
    "            f'{height/total*100:.1f}%',\n",
    "            ha='center', fontsize=12, fontweight='bold')\n",
    "\n",
    "plt.xlabel('Outperform Binary (0=Underperform, 1=Outperform)', fontsize=12)\n",
    "plt.ylabel('Count', fontsize=12)\n",
    "plt.title('Class Balance: Binary Outperformance Target', fontsize=14, fontweight='bold')\n",
    "plt.xticks([0, 1], ['Underperform (0)', 'Outperform (1)'])\n",
    "plt.grid(True, alpha=0.3, axis='y')\n",
    "plt.tight_layout()\n",
    "plt.show()"
   ]
  },
  {
   "cell_type": "markdown",
   "metadata": {},
   "source": [
    "### 2.3 Time Series of Average Excess Return"
   ]
  },
  {
   "cell_type": "code",
   "execution_count": null,
   "metadata": {},
   "outputs": [],
   "source": [
    "# Calculate average excess return per month\n",
    "monthly_excess_return = training_targets.groupby('month_id')['excess_return'].agg(['mean', 'std', 'count'])\n",
    "monthly_excess_return = monthly_excess_return.reset_index()\n",
    "\n",
    "# Plot time series\n",
    "plt.figure(figsize=(12, 6))\n",
    "plt.plot(range(len(monthly_excess_return)), monthly_excess_return['mean'], \n",
    "         marker='o', linewidth=2, markersize=6, color='steelblue', label='Mean Excess Return')\n",
    "plt.axhline(y=0, color='red', linestyle='--', linewidth=1.5, alpha=0.7, label='Zero Line')\n",
    "\n",
    "# Shade positive and negative regions\n",
    "plt.fill_between(range(len(monthly_excess_return)), \n",
    "                 monthly_excess_return['mean'], 0, \n",
    "                 where=(monthly_excess_return['mean'] > 0), \n",
    "                 alpha=0.3, color='green', label='Positive Excess Return')\n",
    "plt.fill_between(range(len(monthly_excess_return)), \n",
    "                 monthly_excess_return['mean'], 0, \n",
    "                 where=(monthly_excess_return['mean'] <= 0), \n",
    "                 alpha=0.3, color='red', label='Negative Excess Return')\n",
    "\n",
    "plt.xlabel('Month Index', fontsize=12)\n",
    "plt.ylabel('Average Excess Return', fontsize=12)\n",
    "plt.title('Time Series: Average Excess Return per Month (Jan 2020 - Jun 2023)', \n",
    "          fontsize=14, fontweight='bold')\n",
    "plt.xticks(range(0, len(monthly_excess_return), 6), \n",
    "           monthly_excess_return['month_id'].iloc[::6], rotation=45)\n",
    "plt.legend(loc='best')\n",
    "plt.grid(True, alpha=0.3)\n",
    "plt.tight_layout()\n",
    "plt.show()"
   ]
  },
  {
   "cell_type": "markdown",
   "metadata": {},
   "source": [
    "### 2.4 Excess Return vs Index Return"
   ]
  },
  {
   "cell_type": "code",
   "execution_count": null,
   "metadata": {},
   "outputs": [],
   "source": [
    "# Merge with index data for scatter plot\n",
    "merged_data = training_targets.merge(monash_index, on='month_id', how='left')\n",
    "\n",
    "# Calculate monthly averages\n",
    "monthly_comparison = merged_data.groupby('month_id').agg({\n",
    "    'excess_return': 'mean',\n",
    "    'index_return': 'first'\n",
    "}).reset_index()\n",
    "\n",
    "# Scatter plot\n",
    "plt.figure(figsize=(10, 6))\n",
    "scatter = plt.scatter(monthly_comparison['index_return'], \n",
    "                     monthly_comparison['excess_return'],\n",
    "                     c=range(len(monthly_comparison)), \n",
    "                     cmap='viridis', \n",
    "                     s=100, \n",
    "                     alpha=0.7,\n",
    "                     edgecolors='black')\n",
    "\n",
    "# Add colorbar to show time progression\n",
    "cbar = plt.colorbar(scatter)\n",
    "cbar.set_label('Month Index (0=Jan 2020, 41=Jun 2023)', rotation=270, labelpad=20)\n",
    "\n",
    "# Add reference lines\n",
    "plt.axhline(y=0, color='red', linestyle='--', linewidth=1, alpha=0.5)\n",
    "plt.axvline(x=0, color='red', linestyle='--', linewidth=1, alpha=0.5)\n",
    "\n",
    "# Add trendline\n",
    "z = np.polyfit(monthly_comparison['index_return'], monthly_comparison['excess_return'], 1)\n",
    "p = np.poly1d(z)\n",
    "x_line = np.linspace(monthly_comparison['index_return'].min(), \n",
    "                     monthly_comparison['index_return'].max(), 100)\n",
    "plt.plot(x_line, p(x_line), \"r--\", alpha=0.8, linewidth=2, \n",
    "         label=f'Trendline: y={z[0]:.2f}x+{z[1]:.4f}')\n",
    "\n",
    "plt.xlabel('Monash Index Return', fontsize=12)\n",
    "plt.ylabel('Average Excess Return', fontsize=12)\n",
    "plt.title('Excess Return vs Index Return by Month', fontsize=14, fontweight='bold')\n",
    "plt.legend()\n",
    "plt.grid(True, alpha=0.3)\n",
    "plt.tight_layout()\n",
    "plt.show()\n",
    "\n",
    "# Calculate correlation\n",
    "correlation = monthly_comparison[['index_return', 'excess_return']].corr().iloc[0, 1]\n",
    "print(f\"Correlation between Index Return and Average Excess Return: {correlation:.4f}\")"
   ]
  },
  {
   "cell_type": "markdown",
   "metadata": {},
   "source": [
    "## 3. Monash Index Analysis\n",
    "\n",
    "Analyze the market index behavior over the analysis period, highlighting key events like the COVID-19 crash and recovery."
   ]
  },
  {
   "cell_type": "markdown",
   "metadata": {},
   "source": [
    "### 3.1 Index Value Over Time"
   ]
  },
  {
   "cell_type": "code",
   "execution_count": null,
   "metadata": {},
   "outputs": [],
   "source": [
    "# Plot index value over time\n",
    "plt.figure(figsize=(12, 6))\n",
    "plt.plot(range(len(monash_index)), monash_index['index_value'], \n",
    "         linewidth=2.5, color='darkblue', marker='o', markersize=4)\n",
    "\n",
    "# Highlight COVID crash (March 2020) and recovery (April 2020)\n",
    "covid_crash_idx = 2  # 2020_03\n",
    "covid_recovery_idx = 3  # 2020_04\n",
    "\n",
    "plt.scatter(covid_crash_idx, monash_index.iloc[covid_crash_idx]['index_value'], \n",
    "           color='red', s=200, zorder=5, label='COVID Crash (Mar 2020: -11.1%)', \n",
    "           edgecolors='black', linewidths=2)\n",
    "plt.scatter(covid_recovery_idx, monash_index.iloc[covid_recovery_idx]['index_value'], \n",
    "           color='green', s=200, zorder=5, label='Recovery (Apr 2020: +14.1%)', \n",
    "           edgecolors='black', linewidths=2)\n",
    "\n",
    "# Add annotations\n",
    "plt.annotate(f\"Crash: {monash_index.iloc[covid_crash_idx]['index_value']:.2f}\",\n",
    "            xy=(covid_crash_idx, monash_index.iloc[covid_crash_idx]['index_value']),\n",
    "            xytext=(covid_crash_idx-2, monash_index.iloc[covid_crash_idx]['index_value']-5),\n",
    "            arrowprops=dict(arrowstyle='->', color='red', lw=2),\n",
    "            fontsize=10, fontweight='bold')\n",
    "\n",
    "plt.annotate(f\"Recovery: {monash_index.iloc[covid_recovery_idx]['index_value']:.2f}\",\n",
    "            xy=(covid_recovery_idx, monash_index.iloc[covid_recovery_idx]['index_value']),\n",
    "            xytext=(covid_recovery_idx+1, monash_index.iloc[covid_recovery_idx]['index_value']+3),\n",
    "            arrowprops=dict(arrowstyle='->', color='green', lw=2),\n",
    "            fontsize=10, fontweight='bold')\n",
    "\n",
    "plt.xlabel('Month Index', fontsize=12)\n",
    "plt.ylabel('Index Value', fontsize=12)\n",
    "plt.title('Monash Index Value Over Time (Jan 2020 - Jun 2023)', fontsize=14, fontweight='bold')\n",
    "plt.xticks(range(0, len(monash_index), 6), \n",
    "           monash_index['month_id'].iloc[::6], rotation=45)\n",
    "plt.legend(loc='best')\n",
    "plt.grid(True, alpha=0.3)\n",
    "plt.tight_layout()\n",
    "plt.show()"
   ]
  },
  {
   "cell_type": "markdown",
   "metadata": {},
   "source": [
    "### 3.2 Index Returns by Month"
   ]
  },
  {
   "cell_type": "code",
   "execution_count": null,
   "metadata": {},
   "outputs": [],
   "source": [
    "# Bar plot of index returns\n",
    "colors = ['green' if x > 0 else 'red' for x in monash_index['index_return']]\n",
    "\n",
    "plt.figure(figsize=(12, 6))\n",
    "bars = plt.bar(range(len(monash_index)), monash_index['index_return'], \n",
    "               color=colors, alpha=0.7, edgecolor='black')\n",
    "\n",
    "# Highlight COVID events\n",
    "bars[covid_crash_idx].set_color('darkred')\n",
    "bars[covid_crash_idx].set_alpha(1.0)\n",
    "bars[covid_crash_idx].set_linewidth(3)\n",
    "\n",
    "bars[covid_recovery_idx].set_color('darkgreen')\n",
    "bars[covid_recovery_idx].set_alpha(1.0)\n",
    "bars[covid_recovery_idx].set_linewidth(3)\n",
    "\n",
    "plt.axhline(y=0, color='black', linestyle='-', linewidth=1)\n",
    "plt.xlabel('Month Index', fontsize=12)\n",
    "plt.ylabel('Index Return', fontsize=12)\n",
    "plt.title('Monash Index Monthly Returns (Jan 2020 - Jun 2023)', fontsize=14, fontweight='bold')\n",
    "plt.xticks(range(0, len(monash_index), 6), \n",
    "           monash_index['month_id'].iloc[::6], rotation=45)\n",
    "\n",
    "# Add legend\n",
    "from matplotlib.patches import Patch\n",
    "legend_elements = [\n",
    "    Patch(facecolor='green', alpha=0.7, label='Positive Return'),\n",
    "    Patch(facecolor='red', alpha=0.7, label='Negative Return'),\n",
    "    Patch(facecolor='darkred', label='COVID Crash (Mar 2020)'),\n",
    "    Patch(facecolor='darkgreen', label='COVID Recovery (Apr 2020)')\n",
    "]\n",
    "plt.legend(handles=legend_elements, loc='lower right')\n",
    "\n",
    "plt.grid(True, alpha=0.3, axis='y')\n",
    "plt.tight_layout()\n",
    "plt.show()"
   ]
  },
  {
   "cell_type": "markdown",
   "metadata": {},
   "source": [
    "### 3.3 Index Return Summary Statistics"
   ]
  },
  {
   "cell_type": "code",
   "execution_count": null,
   "metadata": {},
   "outputs": [],
   "source": [
    "# Summary statistics\n",
    "print(\"=\"*80)\n",
    "print(\"MONASH INDEX - Summary Statistics\")\n",
    "print(\"=\"*80)\n",
    "print(monash_index[['index_return', 'index_value']].describe())\n",
    "\n",
    "print(\"\\n\" + \"=\"*80)\n",
    "print(\"KEY EVENTS\")\n",
    "print(\"=\"*80)\n",
    "print(f\"COVID Crash (2020-03):    {monash_index.iloc[2]['index_return']*100:.1f}%\")\n",
    "print(f\"COVID Recovery (2020-04): {monash_index.iloc[3]['index_return']*100:.1f}%\")\n",
    "print(f\"Best Month:  {monash_index.loc[monash_index['index_return'].idxmax(), 'month_id']} \"\n",
    "      f\"({monash_index['index_return'].max()*100:.2f}%)\")\n",
    "print(f\"Worst Month: {monash_index.loc[monash_index['index_return'].idxmin(), 'month_id']} \"\n",
    "      f\"({monash_index['index_return'].min()*100:.2f}%)\")\n",
    "\n",
    "positive_months = (monash_index['index_return'] > 0).sum()\n",
    "negative_months = (monash_index['index_return'] < 0).sum()\n",
    "print(f\"\\nPositive Return Months: {positive_months} ({positive_months/len(monash_index)*100:.1f}%)\")\n",
    "print(f\"Negative Return Months: {negative_months} ({negative_months/len(monash_index)*100:.1f}%)\")"
   ]
  },
  {
   "cell_type": "markdown",
   "metadata": {},
   "source": [
    "## 4. Stock Performance Patterns\n",
    "\n",
    "Analyze individual stock performance, sector patterns, and correlations with the target variable."
   ]
  },
  {
   "cell_type": "markdown",
   "metadata": {},
   "source": [
    "### 4.1 Top and Bottom Performers"
   ]
  },
  {
   "cell_type": "code",
   "execution_count": null,
   "metadata": {},
   "outputs": [],
   "source": [
    "# Calculate average excess return per stock\n",
    "stock_performance = training_targets.groupby('stock_id')['excess_return'].mean().reset_index()\n",
    "stock_performance = stock_performance.sort_values('excess_return', ascending=False)\n",
    "\n",
    "# Get top 10 and bottom 10\n",
    "top_10 = stock_performance.head(10)\n",
    "bottom_10 = stock_performance.tail(10).sort_values('excess_return')\n",
    "\n",
    "print(\"=\"*80)\n",
    "print(\"TOP 10 STOCKS - Highest Average Excess Return\")\n",
    "print(\"=\"*80)\n",
    "print(top_10.to_string(index=False))\n",
    "\n",
    "print(\"\\n\" + \"=\"*80)\n",
    "print(\"BOTTOM 10 STOCKS - Lowest Average Excess Return\")\n",
    "print(\"=\"*80)\n",
    "print(bottom_10.to_string(index=False))"
   ]
  },
  {
   "cell_type": "code",
   "execution_count": null,
   "metadata": {},
   "outputs": [],
   "source": [
    "# Visualize top and bottom performers\n",
    "fig, axes = plt.subplots(1, 2, figsize=(14, 6))\n",
    "\n",
    "# Top 10\n",
    "axes[0].barh(range(len(top_10)), top_10['excess_return'], color='green', alpha=0.7, edgecolor='black')\n",
    "axes[0].set_yticks(range(len(top_10)))\n",
    "axes[0].set_yticklabels(top_10['stock_id'])\n",
    "axes[0].set_xlabel('Average Excess Return', fontsize=11)\n",
    "axes[0].set_title('Top 10 Stocks by Average Excess Return', fontsize=12, fontweight='bold')\n",
    "axes[0].grid(True, alpha=0.3, axis='x')\n",
    "axes[0].invert_yaxis()\n",
    "\n",
    "# Bottom 10\n",
    "axes[1].barh(range(len(bottom_10)), bottom_10['excess_return'], color='red', alpha=0.7, edgecolor='black')\n",
    "axes[1].set_yticks(range(len(bottom_10)))\n",
    "axes[1].set_yticklabels(bottom_10['stock_id'])\n",
    "axes[1].set_xlabel('Average Excess Return', fontsize=11)\n",
    "axes[1].set_title('Bottom 10 Stocks by Average Excess Return', fontsize=12, fontweight='bold')\n",
    "axes[1].grid(True, alpha=0.3, axis='x')\n",
    "axes[1].invert_yaxis()\n",
    "\n",
    "plt.tight_layout()\n",
    "plt.show()"
   ]
  },
  {
   "cell_type": "markdown",
   "metadata": {},
   "source": [
    "### 4.2 Returns Distribution by Sector"
   ]
  },
  {
   "cell_type": "code",
   "execution_count": null,
   "metadata": {},
   "outputs": [],
   "source": [
    "# Merge stock performance with company info to get sectors\n",
    "stock_performance_sector = training_targets.merge(company_info[['stock_id', 'sector']], \n",
    "                                                   on='stock_id', how='left')\n",
    "\n",
    "# Create boxplot\n",
    "plt.figure(figsize=(12, 6))\n",
    "sns.boxplot(data=stock_performance_sector, x='sector', y='excess_return', palette='Set3')\n",
    "plt.xticks(rotation=45, ha='right')\n",
    "plt.xlabel('Sector', fontsize=12)\n",
    "plt.ylabel('Excess Return', fontsize=12)\n",
    "plt.title('Distribution of Excess Returns by Sector', fontsize=14, fontweight='bold')\n",
    "plt.axhline(y=0, color='red', linestyle='--', linewidth=1, alpha=0.5)\n",
    "plt.grid(True, alpha=0.3, axis='y')\n",
    "plt.tight_layout()\n",
    "plt.show()"
   ]
  },
  {
   "cell_type": "markdown",
   "metadata": {},
   "source": [
    "### 4.3 Feature Correlation with Excess Return"
   ]
  },
  {
   "cell_type": "code",
   "execution_count": null,
   "metadata": {},
   "outputs": [],
   "source": [
    "# Merge stock data with training targets\n",
    "merged_analysis = stock_data.merge(training_targets[['month_id', 'stock_id', 'excess_return']], \n",
    "                                   on=['month_id', 'stock_id'], how='inner')\n",
    "\n",
    "# Select numeric features for correlation\n",
    "numeric_features = [\n",
    "    'intramonth_return', 'return_1m', 'return_3m', 'return_6m',\n",
    "    'intramonth_volatility', 'volatility_3m', 'volatility_6m',\n",
    "    'volume_ratio', 'price_to_moving_avg', 'excess_return'\n",
    "]\n",
    "\n",
    "# Calculate correlation matrix\n",
    "corr_matrix = merged_analysis[numeric_features].corr()\n",
    "\n",
    "# Plot heatmap\n",
    "plt.figure(figsize=(12, 10))\n",
    "sns.heatmap(corr_matrix, annot=True, fmt='.3f', cmap='coolwarm', \n",
    "            center=0, square=True, linewidths=1, \n",
    "            cbar_kws={\"shrink\": 0.8})\n",
    "plt.title('Correlation Heatmap: Features vs Excess Return', fontsize=14, fontweight='bold')\n",
    "plt.tight_layout()\n",
    "plt.show()\n",
    "\n",
    "# Display top correlations with excess_return\n",
    "print(\"\\n\" + \"=\"*80)\n",
    "print(\"CORRELATIONS WITH EXCESS RETURN (sorted by absolute value)\")\n",
    "print(\"=\"*80)\n",
    "excess_return_corr = corr_matrix['excess_return'].drop('excess_return').sort_values(key=abs, ascending=False)\n",
    "print(excess_return_corr)"
   ]
  },
  {
   "cell_type": "markdown",
   "metadata": {},
   "source": [
    "### 4.4 Volatility Patterns Over Time"
   ]
  },
  {
   "cell_type": "code",
   "execution_count": null,
   "metadata": {},
   "outputs": [],
   "source": [
    "# Calculate average volatility metrics per month\n",
    "monthly_volatility = stock_data.groupby('month_id').agg({\n",
    "    'intramonth_volatility': 'mean',\n",
    "    'volatility_3m': 'mean',\n",
    "    'volatility_6m': 'mean'\n",
    "}).reset_index()\n",
    "\n",
    "# Plot volatility trends\n",
    "plt.figure(figsize=(12, 6))\n",
    "plt.plot(range(len(monthly_volatility)), monthly_volatility['intramonth_volatility'], \n",
    "         marker='o', linewidth=2, label='Intramonth Volatility', alpha=0.7)\n",
    "plt.plot(range(len(monthly_volatility)), monthly_volatility['volatility_3m'], \n",
    "         marker='s', linewidth=2, label='3-Month Volatility', alpha=0.7)\n",
    "plt.plot(range(len(monthly_volatility)), monthly_volatility['volatility_6m'], \n",
    "         marker='^', linewidth=2, label='6-Month Volatility', alpha=0.7)\n",
    "\n",
    "# Highlight COVID crash period\n",
    "plt.axvspan(2, 4, alpha=0.2, color='red', label='COVID Period')\n",
    "\n",
    "plt.xlabel('Month Index', fontsize=12)\n",
    "plt.ylabel('Average Volatility', fontsize=12)\n",
    "plt.title('Stock Volatility Patterns Over Time', fontsize=14, fontweight='bold')\n",
    "plt.xticks(range(0, len(monthly_volatility), 6), \n",
    "           monthly_volatility['month_id'].iloc[::6], rotation=45)\n",
    "plt.legend(loc='best')\n",
    "plt.grid(True, alpha=0.3)\n",
    "plt.tight_layout()\n",
    "plt.show()"
   ]
  },
  {
   "cell_type": "markdown",
   "metadata": {},
   "source": [
    "## 5. Feature Distributions\n",
    "\n",
    "Analyze the distribution of key features and identify potential outliers."
   ]
  },
  {
   "cell_type": "markdown",
   "metadata": {},
   "source": [
    "### 5.1 Key Feature Histograms"
   ]
  },
  {
   "cell_type": "code",
   "execution_count": null,
   "metadata": {},
   "outputs": [],
   "source": [
    "# Histograms of key features\n",
    "key_features = ['return_1m', 'volatility_3m', 'volume_ratio']\n",
    "\n",
    "fig, axes = plt.subplots(1, 3, figsize=(15, 5))\n",
    "\n",
    "for i, feature in enumerate(key_features):\n",
    "    axes[i].hist(stock_data[feature].dropna(), bins=50, edgecolor='black', alpha=0.7, color='steelblue')\n",
    "    axes[i].axvline(stock_data[feature].mean(), color='red', linestyle='--', \n",
    "                   linewidth=2, label=f\"Mean: {stock_data[feature].mean():.3f}\")\n",
    "    axes[i].axvline(stock_data[feature].median(), color='green', linestyle='--', \n",
    "                   linewidth=2, label=f\"Median: {stock_data[feature].median():.3f}\")\n",
    "    axes[i].set_xlabel(feature.replace('_', ' ').title(), fontsize=11)\n",
    "    axes[i].set_ylabel('Frequency', fontsize=11)\n",
    "    axes[i].set_title(f'Distribution of {feature.replace(\"_\", \" \").title()}', \n",
    "                     fontsize=12, fontweight='bold')\n",
    "    axes[i].legend(fontsize=9)\n",
    "    axes[i].grid(True, alpha=0.3)\n",
    "\n",
    "plt.tight_layout()\n",
    "plt.show()"
   ]
  },
  {
   "cell_type": "markdown",
   "metadata": {},
   "source": [
    "### 5.2 Return Features Time Series"
   ]
  },
  {
   "cell_type": "code",
   "execution_count": null,
   "metadata": {},
   "outputs": [],
   "source": [
    "# Time series of average returns\n",
    "monthly_returns = stock_data.groupby('month_id').agg({\n",
    "    'return_1m': 'mean',\n",
    "    'return_3m': 'mean',\n",
    "    'return_6m': 'mean'\n",
    "}).reset_index()\n",
    "\n",
    "plt.figure(figsize=(12, 6))\n",
    "plt.plot(range(len(monthly_returns)), monthly_returns['return_1m'], \n",
    "         marker='o', linewidth=2, label='1-Month Return', alpha=0.8)\n",
    "plt.plot(range(len(monthly_returns)), monthly_returns['return_3m'], \n",
    "         marker='s', linewidth=2, label='3-Month Return', alpha=0.8)\n",
    "plt.plot(range(len(monthly_returns)), monthly_returns['return_6m'], \n",
    "         marker='^', linewidth=2, label='6-Month Return', alpha=0.8)\n",
    "\n",
    "plt.axhline(y=0, color='black', linestyle='--', linewidth=1, alpha=0.5)\n",
    "plt.axvspan(2, 4, alpha=0.2, color='red', label='COVID Period')\n",
    "\n",
    "plt.xlabel('Month Index', fontsize=12)\n",
    "plt.ylabel('Average Return', fontsize=12)\n",
    "plt.title('Time Series: Average Returns (1M, 3M, 6M)', fontsize=14, fontweight='bold')\n",
    "plt.xticks(range(0, len(monthly_returns), 6), \n",
    "           monthly_returns['month_id'].iloc[::6], rotation=45)\n",
    "plt.legend(loc='best')\n",
    "plt.grid(True, alpha=0.3)\n",
    "plt.tight_layout()\n",
    "plt.show()"
   ]
  },
  {
   "cell_type": "markdown",
   "metadata": {},
   "source": [
    "### 5.3 Outlier Detection for Volume and Price Metrics"
   ]
  },
  {
   "cell_type": "code",
   "execution_count": null,
   "metadata": {},
   "outputs": [],
   "source": [
    "# Boxplots for outlier detection\n",
    "outlier_features = ['monthly_volume', 'volume_ratio', 'price_to_moving_avg', 'month_end_close_usd']\n",
    "\n",
    "fig, axes = plt.subplots(2, 2, figsize=(14, 10))\n",
    "axes = axes.ravel()\n",
    "\n",
    "for i, feature in enumerate(outlier_features):\n",
    "    data_to_plot = stock_data[feature].dropna()\n",
    "    bp = axes[i].boxplot(data_to_plot, vert=True, patch_artist=True)\n",
    "    bp['boxes'][0].set_facecolor('lightblue')\n",
    "    bp['boxes'][0].set_alpha(0.7)\n",
    "    \n",
    "    axes[i].set_ylabel(feature.replace('_', ' ').title(), fontsize=11)\n",
    "    axes[i].set_title(f'Outlier Detection: {feature.replace(\"_\", \" \").title()}', \n",
    "                     fontsize=12, fontweight='bold')\n",
    "    axes[i].grid(True, alpha=0.3, axis='y')\n",
    "    \n",
    "    # Calculate and display outlier statistics\n",
    "    Q1 = data_to_plot.quantile(0.25)\n",
    "    Q3 = data_to_plot.quantile(0.75)\n",
    "    IQR = Q3 - Q1\n",
    "    outliers = ((data_to_plot < (Q1 - 1.5 * IQR)) | (data_to_plot > (Q3 + 1.5 * IQR))).sum()\n",
    "    outlier_pct = outliers / len(data_to_plot) * 100\n",
    "    \n",
    "    axes[i].text(0.5, 0.95, f'Outliers: {outliers} ({outlier_pct:.2f}%)', \n",
    "                transform=axes[i].transAxes, \n",
    "                fontsize=10, verticalalignment='top',\n",
    "                bbox=dict(boxstyle='round', facecolor='wheat', alpha=0.5))\n",
    "\n",
    "plt.tight_layout()\n",
    "plt.show()"
   ]
  },
  {
   "cell_type": "markdown",
   "metadata": {},
   "source": [
    "## 6. Sector Analysis\n",
    "\n",
    "Analyze sector-level patterns including stock distribution, performance, and temporal trends."
   ]
  },
  {
   "cell_type": "markdown",
   "metadata": {},
   "source": [
    "### 6.1 Stock Count by Sector"
   ]
  },
  {
   "cell_type": "code",
   "execution_count": null,
   "metadata": {},
   "outputs": [],
   "source": [
    "# Count stocks per sector\n",
    "sector_counts = company_info['sector'].value_counts().reset_index()\n",
    "sector_counts.columns = ['Sector', 'Count']\n",
    "\n",
    "print(\"=\"*80)\n",
    "print(\"STOCKS PER SECTOR\")\n",
    "print(\"=\"*80)\n",
    "print(sector_counts.to_string(index=False))\n",
    "\n",
    "# Visualize\n",
    "plt.figure(figsize=(10, 6))\n",
    "bars = plt.bar(range(len(sector_counts)), sector_counts['Count'], \n",
    "               color=sns.color_palette('Set3', len(sector_counts)), \n",
    "               edgecolor='black', alpha=0.8)\n",
    "\n",
    "plt.xticks(range(len(sector_counts)), sector_counts['Sector'], rotation=45, ha='right')\n",
    "plt.xlabel('Sector', fontsize=12)\n",
    "plt.ylabel('Number of Stocks', fontsize=12)\n",
    "plt.title('Stock Distribution Across Sectors', fontsize=14, fontweight='bold')\n",
    "\n",
    "# Add count labels on bars\n",
    "for i, (bar, count) in enumerate(zip(bars, sector_counts['Count'])):\n",
    "    plt.text(bar.get_x() + bar.get_width()/2, bar.get_height() + 1,\n",
    "            str(count), ha='center', va='bottom', fontsize=10, fontweight='bold')\n",
    "\n",
    "plt.grid(True, alpha=0.3, axis='y')\n",
    "plt.tight_layout()\n",
    "plt.show()"
   ]
  },
  {
   "cell_type": "markdown",
   "metadata": {},
   "source": [
    "### 6.2 Average Excess Return by Sector"
   ]
  },
  {
   "cell_type": "code",
   "execution_count": null,
   "metadata": {},
   "outputs": [],
   "source": [
    "# Calculate average excess return by sector\n",
    "sector_performance = stock_performance_sector.groupby('sector')['excess_return'].agg(['mean', 'std', 'count']).reset_index()\n",
    "sector_performance = sector_performance.sort_values('mean', ascending=False)\n",
    "\n",
    "print(\"\\n\" + \"=\"*80)\n",
    "print(\"AVERAGE EXCESS RETURN BY SECTOR\")\n",
    "print(\"=\"*80)\n",
    "print(sector_performance.to_string(index=False))\n",
    "\n",
    "# Visualize\n",
    "plt.figure(figsize=(10, 6))\n",
    "colors = ['green' if x > 0 else 'red' for x in sector_performance['mean']]\n",
    "bars = plt.barh(range(len(sector_performance)), sector_performance['mean'], \n",
    "                color=colors, alpha=0.7, edgecolor='black')\n",
    "\n",
    "plt.yticks(range(len(sector_performance)), sector_performance['sector'])\n",
    "plt.xlabel('Average Excess Return', fontsize=12)\n",
    "plt.ylabel('Sector', fontsize=12)\n",
    "plt.title('Average Excess Return by Sector', fontsize=14, fontweight='bold')\n",
    "plt.axvline(x=0, color='black', linestyle='-', linewidth=1)\n",
    "plt.grid(True, alpha=0.3, axis='x')\n",
    "\n",
    "# Add value labels\n",
    "for i, (bar, val) in enumerate(zip(bars, sector_performance['mean'])):\n",
    "    plt.text(val + (0.0005 if val > 0 else -0.0005), bar.get_y() + bar.get_height()/2,\n",
    "            f'{val:.4f}', ha='left' if val > 0 else 'right', \n",
    "            va='center', fontsize=9, fontweight='bold')\n",
    "\n",
    "plt.tight_layout()\n",
    "plt.show()"
   ]
  },
  {
   "cell_type": "markdown",
   "metadata": {},
   "source": [
    "### 6.3 Sector Performance Over Time"
   ]
  },
  {
   "cell_type": "code",
   "execution_count": null,
   "metadata": {},
   "outputs": [],
   "source": [
    "# Calculate monthly average excess return by sector\n",
    "sector_time_performance = stock_performance_sector.groupby(['month_id', 'sector'])['excess_return'].mean().reset_index()\n",
    "\n",
    "# Get unique sectors\n",
    "sectors = sector_time_performance['sector'].unique()\n",
    "\n",
    "# Plot sector performance over time\n",
    "plt.figure(figsize=(12, 6))\n",
    "\n",
    "for sector in sectors:\n",
    "    sector_data = sector_time_performance[sector_time_performance['sector'] == sector]\n",
    "    # Map month_id to index for plotting\n",
    "    sector_data = sector_data.sort_values('month_id')\n",
    "    month_indices = [list(monash_index['month_id']).index(m) for m in sector_data['month_id']]\n",
    "    plt.plot(month_indices, sector_data['excess_return'], \n",
    "            marker='o', linewidth=1.5, label=sector, alpha=0.7, markersize=3)\n",
    "\n",
    "plt.axhline(y=0, color='black', linestyle='--', linewidth=1, alpha=0.5)\n",
    "plt.axvspan(2, 4, alpha=0.1, color='red', label='COVID Period')\n",
    "\n",
    "plt.xlabel('Month Index', fontsize=12)\n",
    "plt.ylabel('Average Excess Return', fontsize=12)\n",
    "plt.title('Sector Performance Over Time (Jan 2020 - Jun 2023)', fontsize=14, fontweight='bold')\n",
    "plt.xticks(range(0, len(monash_index), 6), \n",
    "           monash_index['month_id'].iloc[::6], rotation=45)\n",
    "plt.legend(loc='best', ncol=2, fontsize=9)\n",
    "plt.grid(True, alpha=0.3)\n",
    "plt.tight_layout()\n",
    "plt.show()"
   ]
  },
  {
   "cell_type": "markdown",
   "metadata": {},
   "source": [
    "## Summary of Key Findings\n",
    "\n",
    "### Data Quality\n",
    "- All datasets loaded successfully with expected shapes\n",
    "- 25,619 rows covering 616 stocks over 42 months (Jan 2020 - Jun 2023)\n",
    "- Missing values present in some features, requiring handling in preprocessing\n",
    "\n",
    "### Target Variables\n",
    "- Excess returns show approximately normal distribution with slight negative skew\n",
    "- Binary target (outperform_binary) shows class balance information\n",
    "- Temporal patterns in excess returns correlate with market conditions\n",
    "\n",
    "### Market Context (Monash Index)\n",
    "- Clear COVID-19 crash visible in March 2020 (-11.1%)\n",
    "- Strong recovery in April 2020 (+14.1%)\n",
    "- Overall upward trend in index value through 2023\n",
    "\n",
    "### Stock Performance\n",
    "- Significant variation in performance across individual stocks\n",
    "- Sector-based patterns visible in returns distribution\n",
    "- Strong correlation between certain features and excess returns\n",
    "\n",
    "### Feature Insights\n",
    "- Volatility spiked during COVID-19 period\n",
    "- Return features show clear temporal patterns\n",
    "- Volume and price metrics contain outliers requiring attention\n",
    "\n",
    "### Sector Analysis\n",
    "- Stock distribution varies significantly across sectors\n",
    "- Sector performance shows distinct patterns over time\n",
    "- Different sectors responded differently to market events\n",
    "\n",
    "### Next Steps\n",
    "1. Handle missing values through imputation or feature engineering\n",
    "2. Address outliers in volume and price metrics\n",
    "3. Engineer additional features based on correlation insights\n",
    "4. Consider sector-based modeling approaches\n",
    "5. Account for temporal patterns and market regime changes"
   ]
  }
 ],
 "metadata": {
  "kernelspec": {
   "display_name": "Python 3",
   "language": "python",
   "name": "python3"
  },
  "language_info": {
   "codemirror_mode": {
    "name": "ipython",
    "version": 3
   },
   "file_extension": ".py",
   "mimetype": "text/x-python",
   "name": "python",
   "nbconvert_exporter": "python",
   "pygments_lexer": "ipython3",
   "version": "3.8.0"
  }
 },
 "nbformat": 4,
 "nbformat_minor": 4
}
